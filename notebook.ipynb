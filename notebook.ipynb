{
 "cells": [
  {
   "cell_type": "code",
   "execution_count": null,
   "metadata": {
    "collapsed": true
   },
   "outputs": [],
   "source": [
    "import main\n",
    "import numpy as np\n",
    "import config\n",
    "import lstm"
   ]
  },
  {
   "cell_type": "code",
   "execution_count": null,
   "outputs": [],
   "source": [
    "# Fix random seed for reproducibility.\n",
    "seed = 10\n",
    "np.random.seed(seed)"
   ],
   "metadata": {
    "collapsed": false,
    "pycharm": {
     "name": "#%%\n"
    }
   }
  },
  {
   "cell_type": "code",
   "execution_count": null,
   "outputs": [],
   "source": [
    "# Prepare data.\n",
    "data = main.load_and_clean_data()\n",
    "\n",
    "x, y, _ = main.create_supervised_data_set(data[data['CountryName'] != 'Norway'].copy())"
   ],
   "metadata": {
    "collapsed": false,
    "pycharm": {
     "name": "#%%\n"
    }
   }
  },
  {
   "cell_type": "code",
   "execution_count": null,
   "outputs": [],
   "source": [
    "# Visualize data.\n"
   ],
   "metadata": {
    "collapsed": false,
    "pycharm": {
     "name": "#%%\n"
    }
   }
  },
  {
   "cell_type": "code",
   "execution_count": null,
   "outputs": [],
   "source": [
    "# Set hyper-parameters.\n",
    "if config.USE_CACHED_HYPERPARAMETERS:\n",
    "    best_params = {'activation': 'tanh','learn_rate': 0.001,'neurons': 20}\n",
    "else:\n",
    "    best_params, non_nested_r2_score, nested_r2_scores = main.nested_cross_validation(x, y)\n",
    "# Comments made in commit: f3caa99\n",
    "print(\"Best params:\", best_params) # Best params: {'activation': 'hard_sigmoid', 'learn_rate': 0.05, 'neurons': 20}\n",
    "print(\"Non-nested cross validation r2 score:\", non_nested_r2_score) # Non-nested cross validation r2 score: -0.0003677288186736405\n",
    "print(\"Nested cross validation r2 scores:\", nested_r2_scores) # Nested cross validation r2 scores: [-0.00061681 -0.00021794 -0.00018851 -0.00043963 -0.00013743]\n",
    "print(\"Nested cross validation r2 scores mean:\", nested_r2_scores.mean()) # Nested cross validation r2 scores mean: -0.0003200653416570276"
   ],
   "metadata": {
    "collapsed": false,
    "pycharm": {
     "name": "#%%\n"
    }
   }
  },
  {
   "cell_type": "code",
   "execution_count": null,
   "outputs": [],
   "source": [
    "# Train/load model.\n",
    "model = lstm.create_model(**best_params)\n",
    "X_train, X_val, Y_train, Y_val = main.split_data(x, y)\n",
    "if config.USE_CACHED_FITTED_MODEL:\n",
    "    model.load_weights('Models/model_10_0.0001.h5')\n",
    "else:\n",
    "    history = lstm.train_model(model, X_train, Y_train, validation=(X_val, Y_val))\n",
    "    main.draw_graph({'x':range(config.EPOCHS),'y':history['val_loss'],'name':'val_loss'},{'x':range(config.EPOCHS),'y':history['loss'],'name':'loss'})"
   ],
   "metadata": {
    "collapsed": false,
    "pycharm": {
     "name": "#%%\n"
    }
   }
  },
  {
   "cell_type": "code",
   "execution_count": null,
   "outputs": [],
   "source": [
    "# Visualize predictions from the model.\n",
    "main.visualize_predictions(model, data)\n"
   ],
   "metadata": {
    "collapsed": false,
    "pycharm": {
     "name": "#%%\n"
    }
   }
  },
  {
   "cell_type": "code",
   "execution_count": null,
   "outputs": [],
   "source": [
    "# Display SHAP values for the different features.\n",
    "samples = np.random.choice(x.shape[0], size=2000)\n",
    "lstm.calculate_shap(model, x[np.random.choice(x.shape[0], size=1500)], x[samples], config.FEATURES)\n",
    "\n",
    "\n"
   ],
   "metadata": {
    "collapsed": false,
    "pycharm": {
     "name": "#%%\n"
    }
   }
  }
 ],
 "metadata": {
  "kernelspec": {
   "display_name": "Python 3",
   "language": "python",
   "name": "python3"
  },
  "language_info": {
   "codemirror_mode": {
    "name": "ipython",
    "version": 2
   },
   "file_extension": ".py",
   "mimetype": "text/x-python",
   "name": "python",
   "nbconvert_exporter": "python",
   "pygments_lexer": "ipython2",
   "version": "2.7.6"
  }
 },
 "nbformat": 4,
 "nbformat_minor": 0
}